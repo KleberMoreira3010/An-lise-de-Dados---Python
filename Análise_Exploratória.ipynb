{
  "nbformat": 4,
  "nbformat_minor": 0,
  "metadata": {
    "colab": {
      "name": "Análise Exploratória.ipynb",
      "provenance": [],
      "collapsed_sections": [],
      "authorship_tag": "ABX9TyMD5naH0nSxetOnt35MLn+v",
      "include_colab_link": true
    },
    "kernelspec": {
      "name": "python3",
      "display_name": "Python 3"
    }
  },
  "cells": [
    {
      "cell_type": "markdown",
      "metadata": {
        "id": "view-in-github",
        "colab_type": "text"
      },
      "source": [
        "<a href=\"https://colab.research.google.com/github/KleberMoreira3010/Analise-de-Dados---Python-e-R/blob/master/An%C3%A1lise_Explorat%C3%B3ria.ipynb\" target=\"_parent\"><img src=\"https://colab.research.google.com/assets/colab-badge.svg\" alt=\"Open In Colab\"/></a>"
      ]
    },
    {
      "cell_type": "code",
      "metadata": {
        "id": "1PChqwcdLBcV"
      },
      "source": [
        "import pandas as pd\n",
        "\n",
        "drinks = pd.read_csv('http://bit.ly/drinksbycountry')\n",
        "movies = pd.read_csv('http://bit.ly/imdbratings')\n",
        "train = pd.read_csv('http://bit.ly/kaggletrain')\n",
        "ufo = pd.read_csv('http://bit.ly/uforeports', parse_dates=['Time'])"
      ],
      "execution_count": null,
      "outputs": []
    },
    {
      "cell_type": "code",
      "metadata": {
        "id": "_0pc7zsBLtcj",
        "outputId": "a89d4537-9885-4613-f291-bfdea60e3bc9",
        "colab": {
          "base_uri": "https://localhost:8080/",
          "height": 198
        }
      },
      "source": [
        "drinks.head()"
      ],
      "execution_count": null,
      "outputs": [
        {
          "output_type": "execute_result",
          "data": {
            "text/html": [
              "<div>\n",
              "<style scoped>\n",
              "    .dataframe tbody tr th:only-of-type {\n",
              "        vertical-align: middle;\n",
              "    }\n",
              "\n",
              "    .dataframe tbody tr th {\n",
              "        vertical-align: top;\n",
              "    }\n",
              "\n",
              "    .dataframe thead th {\n",
              "        text-align: right;\n",
              "    }\n",
              "</style>\n",
              "<table border=\"1\" class=\"dataframe\">\n",
              "  <thead>\n",
              "    <tr style=\"text-align: right;\">\n",
              "      <th></th>\n",
              "      <th>country</th>\n",
              "      <th>beer_servings</th>\n",
              "      <th>spirit_servings</th>\n",
              "      <th>wine_servings</th>\n",
              "      <th>total_litres_of_pure_alcohol</th>\n",
              "      <th>continent</th>\n",
              "    </tr>\n",
              "  </thead>\n",
              "  <tbody>\n",
              "    <tr>\n",
              "      <th>0</th>\n",
              "      <td>Afghanistan</td>\n",
              "      <td>0</td>\n",
              "      <td>0</td>\n",
              "      <td>0</td>\n",
              "      <td>0.0</td>\n",
              "      <td>Asia</td>\n",
              "    </tr>\n",
              "    <tr>\n",
              "      <th>1</th>\n",
              "      <td>Albania</td>\n",
              "      <td>89</td>\n",
              "      <td>132</td>\n",
              "      <td>54</td>\n",
              "      <td>4.9</td>\n",
              "      <td>Europe</td>\n",
              "    </tr>\n",
              "    <tr>\n",
              "      <th>2</th>\n",
              "      <td>Algeria</td>\n",
              "      <td>25</td>\n",
              "      <td>0</td>\n",
              "      <td>14</td>\n",
              "      <td>0.7</td>\n",
              "      <td>Africa</td>\n",
              "    </tr>\n",
              "    <tr>\n",
              "      <th>3</th>\n",
              "      <td>Andorra</td>\n",
              "      <td>245</td>\n",
              "      <td>138</td>\n",
              "      <td>312</td>\n",
              "      <td>12.4</td>\n",
              "      <td>Europe</td>\n",
              "    </tr>\n",
              "    <tr>\n",
              "      <th>4</th>\n",
              "      <td>Angola</td>\n",
              "      <td>217</td>\n",
              "      <td>57</td>\n",
              "      <td>45</td>\n",
              "      <td>5.9</td>\n",
              "      <td>Africa</td>\n",
              "    </tr>\n",
              "  </tbody>\n",
              "</table>\n",
              "</div>"
            ],
            "text/plain": [
              "       country  beer_servings  ...  total_litres_of_pure_alcohol  continent\n",
              "0  Afghanistan              0  ...                           0.0       Asia\n",
              "1      Albania             89  ...                           4.9     Europe\n",
              "2      Algeria             25  ...                           0.7     Africa\n",
              "3      Andorra            245  ...                          12.4     Europe\n",
              "4       Angola            217  ...                           5.9     Africa\n",
              "\n",
              "[5 rows x 6 columns]"
            ]
          },
          "metadata": {
            "tags": []
          },
          "execution_count": 2
        }
      ]
    },
    {
      "cell_type": "code",
      "metadata": {
        "id": "e2x8Jl84LwZv",
        "outputId": "e32becad-beb9-4794-c72f-4ff38fff974b",
        "colab": {
          "base_uri": "https://localhost:8080/",
          "height": 163
        }
      },
      "source": [
        "#Função agregação, pode ser usado describe ou função individuais (mean, max, min)\n",
        "drinks.groupby('continent').beer_servings.mean()"
      ],
      "execution_count": null,
      "outputs": [
        {
          "output_type": "execute_result",
          "data": {
            "text/plain": [
              "continent\n",
              "Africa            61.471698\n",
              "Asia              37.045455\n",
              "Europe           193.777778\n",
              "North America    145.434783\n",
              "Oceania           89.687500\n",
              "South America    175.083333\n",
              "Name: beer_servings, dtype: float64"
            ]
          },
          "metadata": {
            "tags": []
          },
          "execution_count": 5
        }
      ]
    },
    {
      "cell_type": "code",
      "metadata": {
        "id": "KefdzGDGMBZL",
        "outputId": "0926a392-be54-490d-c7a8-039894f7e813",
        "colab": {
          "base_uri": "https://localhost:8080/",
          "height": 926
        }
      },
      "source": [
        "#Utilizando o método unstack \n",
        "\n",
        "drinks.groupby('continent').beer_servings.describe().unstack()"
      ],
      "execution_count": null,
      "outputs": [
        {
          "output_type": "execute_result",
          "data": {
            "text/plain": [
              "       continent    \n",
              "count  Africa            53.000000\n",
              "       Asia              44.000000\n",
              "       Europe            45.000000\n",
              "       North America     23.000000\n",
              "       Oceania           16.000000\n",
              "       South America     12.000000\n",
              "mean   Africa            61.471698\n",
              "       Asia              37.045455\n",
              "       Europe           193.777778\n",
              "       North America    145.434783\n",
              "       Oceania           89.687500\n",
              "       South America    175.083333\n",
              "std    Africa            80.557816\n",
              "       Asia              49.469725\n",
              "       Europe            99.631569\n",
              "       North America     79.621163\n",
              "       Oceania           96.641412\n",
              "       South America     65.242845\n",
              "min    Africa             0.000000\n",
              "       Asia               0.000000\n",
              "       Europe             0.000000\n",
              "       North America      1.000000\n",
              "       Oceania            0.000000\n",
              "       South America     93.000000\n",
              "25%    Africa            15.000000\n",
              "       Asia               4.250000\n",
              "       Europe           127.000000\n",
              "       North America     80.000000\n",
              "       Oceania           21.000000\n",
              "       South America    129.500000\n",
              "50%    Africa            32.000000\n",
              "       Asia              17.500000\n",
              "       Europe           219.000000\n",
              "       North America    143.000000\n",
              "       Oceania           52.500000\n",
              "       South America    162.500000\n",
              "75%    Africa            76.000000\n",
              "       Asia              60.500000\n",
              "       Europe           270.000000\n",
              "       North America    198.000000\n",
              "       Oceania          125.750000\n",
              "       South America    198.000000\n",
              "max    Africa           376.000000\n",
              "       Asia             247.000000\n",
              "       Europe           361.000000\n",
              "       North America    285.000000\n",
              "       Oceania          306.000000\n",
              "       South America    333.000000\n",
              "dtype: float64"
            ]
          },
          "metadata": {
            "tags": []
          },
          "execution_count": 12
        }
      ]
    },
    {
      "cell_type": "code",
      "metadata": {
        "id": "4Xw9WeWsN187"
      },
      "source": [
        "#Criando um DataFrame\n",
        "df=pd.DataFrame({'name':['A', 'A','B', 'B' ], 'day':[1,2,1,1], 'height':[67,67, 72,72], 'weight':[100,103,130,129]})"
      ],
      "execution_count": null,
      "outputs": []
    },
    {
      "cell_type": "code",
      "metadata": {
        "id": "APl1WsZ4PTb0",
        "outputId": "b612b714-368d-4245-8b13-0ba627417ba9",
        "colab": {
          "base_uri": "https://localhost:8080/",
          "height": 168
        }
      },
      "source": [
        "df"
      ],
      "execution_count": null,
      "outputs": [
        {
          "output_type": "execute_result",
          "data": {
            "text/html": [
              "<div>\n",
              "<style scoped>\n",
              "    .dataframe tbody tr th:only-of-type {\n",
              "        vertical-align: middle;\n",
              "    }\n",
              "\n",
              "    .dataframe tbody tr th {\n",
              "        vertical-align: top;\n",
              "    }\n",
              "\n",
              "    .dataframe thead th {\n",
              "        text-align: right;\n",
              "    }\n",
              "</style>\n",
              "<table border=\"1\" class=\"dataframe\">\n",
              "  <thead>\n",
              "    <tr style=\"text-align: right;\">\n",
              "      <th></th>\n",
              "      <th>name</th>\n",
              "      <th>day</th>\n",
              "      <th>height</th>\n",
              "      <th>weight</th>\n",
              "    </tr>\n",
              "  </thead>\n",
              "  <tbody>\n",
              "    <tr>\n",
              "      <th>0</th>\n",
              "      <td>A</td>\n",
              "      <td>1</td>\n",
              "      <td>67</td>\n",
              "      <td>100</td>\n",
              "    </tr>\n",
              "    <tr>\n",
              "      <th>1</th>\n",
              "      <td>A</td>\n",
              "      <td>2</td>\n",
              "      <td>67</td>\n",
              "      <td>103</td>\n",
              "    </tr>\n",
              "    <tr>\n",
              "      <th>2</th>\n",
              "      <td>B</td>\n",
              "      <td>1</td>\n",
              "      <td>72</td>\n",
              "      <td>130</td>\n",
              "    </tr>\n",
              "    <tr>\n",
              "      <th>3</th>\n",
              "      <td>B</td>\n",
              "      <td>1</td>\n",
              "      <td>72</td>\n",
              "      <td>129</td>\n",
              "    </tr>\n",
              "  </tbody>\n",
              "</table>\n",
              "</div>"
            ],
            "text/plain": [
              "  name  day  height  weight\n",
              "0    A    1      67     100\n",
              "1    A    2      67     103\n",
              "2    B    1      72     130\n",
              "3    B    1      72     129"
            ]
          },
          "metadata": {
            "tags": []
          },
          "execution_count": 18
        }
      ]
    },
    {
      "cell_type": "code",
      "metadata": {
        "id": "igNlzzV7PcsZ",
        "outputId": "f58a3ee7-fca7-4c90-f5b4-a697c57351a2",
        "colab": {
          "base_uri": "https://localhost:8080/",
          "height": 198
        }
      },
      "source": [
        "#Criando Multi-indice\n",
        "\n",
        "df.set_index(['name', 'day'])"
      ],
      "execution_count": null,
      "outputs": [
        {
          "output_type": "execute_result",
          "data": {
            "text/html": [
              "<div>\n",
              "<style scoped>\n",
              "    .dataframe tbody tr th:only-of-type {\n",
              "        vertical-align: middle;\n",
              "    }\n",
              "\n",
              "    .dataframe tbody tr th {\n",
              "        vertical-align: top;\n",
              "    }\n",
              "\n",
              "    .dataframe thead th {\n",
              "        text-align: right;\n",
              "    }\n",
              "</style>\n",
              "<table border=\"1\" class=\"dataframe\">\n",
              "  <thead>\n",
              "    <tr style=\"text-align: right;\">\n",
              "      <th></th>\n",
              "      <th></th>\n",
              "      <th>height</th>\n",
              "      <th>weight</th>\n",
              "    </tr>\n",
              "    <tr>\n",
              "      <th>name</th>\n",
              "      <th>day</th>\n",
              "      <th></th>\n",
              "      <th></th>\n",
              "    </tr>\n",
              "  </thead>\n",
              "  <tbody>\n",
              "    <tr>\n",
              "      <th rowspan=\"2\" valign=\"top\">A</th>\n",
              "      <th>1</th>\n",
              "      <td>67</td>\n",
              "      <td>100</td>\n",
              "    </tr>\n",
              "    <tr>\n",
              "      <th>2</th>\n",
              "      <td>67</td>\n",
              "      <td>103</td>\n",
              "    </tr>\n",
              "    <tr>\n",
              "      <th rowspan=\"2\" valign=\"top\">B</th>\n",
              "      <th>1</th>\n",
              "      <td>72</td>\n",
              "      <td>130</td>\n",
              "    </tr>\n",
              "    <tr>\n",
              "      <th>1</th>\n",
              "      <td>72</td>\n",
              "      <td>129</td>\n",
              "    </tr>\n",
              "  </tbody>\n",
              "</table>\n",
              "</div>"
            ],
            "text/plain": [
              "          height  weight\n",
              "name day                \n",
              "A    1        67     100\n",
              "     2        67     103\n",
              "B    1        72     130\n",
              "     1        72     129"
            ]
          },
          "metadata": {
            "tags": []
          },
          "execution_count": 19
        }
      ]
    },
    {
      "cell_type": "code",
      "metadata": {
        "id": "pV8LIjQ_Ppa8",
        "outputId": "56be7ab1-b96a-4c83-ccce-1e6150a4c5a6",
        "colab": {
          "base_uri": "https://localhost:8080/",
          "height": 285
        }
      },
      "source": [
        "drinks.plot(kind='box')"
      ],
      "execution_count": null,
      "outputs": [
        {
          "output_type": "execute_result",
          "data": {
            "text/plain": [
              "<matplotlib.axes._subplots.AxesSubplot at 0x7eff8beef2b0>"
            ]
          },
          "metadata": {
            "tags": []
          },
          "execution_count": 20
        },
        {
          "output_type": "display_data",
          "data": {
            "image/png": "[encoded data removed]",
            "text/plain": [
              "<Figure size 432x288 with 1 Axes>"
            ]
          },
          "metadata": {
            "tags": [],
            "needs_background": "light"
          }
        }
      ]
    },
    {
      "cell_type": "code",
      "metadata": {
        "id": "B_05uHTXQ8BN",
        "outputId": "27105174-ca21-4b0a-f5d7-306f8436de86",
        "colab": {
          "base_uri": "https://localhost:8080/",
          "height": 408
        }
      },
      "source": [
        "movies.loc[movies.duration >=200, :]"
      ],
      "execution_count": null,
      "outputs": [
        {
          "output_type": "execute_result",
          "data": {
            "text/html": [
              "<div>\n",
              "<style scoped>\n",
              "    .dataframe tbody tr th:only-of-type {\n",
              "        vertical-align: middle;\n",
              "    }\n",
              "\n",
              "    .dataframe tbody tr th {\n",
              "        vertical-align: top;\n",
              "    }\n",
              "\n",
              "    .dataframe thead th {\n",
              "        text-align: right;\n",
              "    }\n",
              "</style>\n",
              "<table border=\"1\" class=\"dataframe\">\n",
              "  <thead>\n",
              "    <tr style=\"text-align: right;\">\n",
              "      <th></th>\n",
              "      <th>star_rating</th>\n",
              "      <th>title</th>\n",
              "      <th>content_rating</th>\n",
              "      <th>genre</th>\n",
              "      <th>duration</th>\n",
              "      <th>actors_list</th>\n",
              "    </tr>\n",
              "  </thead>\n",
              "  <tbody>\n",
              "    <tr>\n",
              "      <th>2</th>\n",
              "      <td>9.1</td>\n",
              "      <td>The Godfather: Part II</td>\n",
              "      <td>R</td>\n",
              "      <td>Crime</td>\n",
              "      <td>200</td>\n",
              "      <td>[u'Al Pacino', u'Robert De Niro', u'Robert Duv...</td>\n",
              "    </tr>\n",
              "    <tr>\n",
              "      <th>7</th>\n",
              "      <td>8.9</td>\n",
              "      <td>The Lord of the Rings: The Return of the King</td>\n",
              "      <td>PG-13</td>\n",
              "      <td>Adventure</td>\n",
              "      <td>201</td>\n",
              "      <td>[u'Elijah Wood', u'Viggo Mortensen', u'Ian McK...</td>\n",
              "    </tr>\n",
              "    <tr>\n",
              "      <th>17</th>\n",
              "      <td>8.7</td>\n",
              "      <td>Seven Samurai</td>\n",
              "      <td>UNRATED</td>\n",
              "      <td>Drama</td>\n",
              "      <td>207</td>\n",
              "      <td>[u'Toshir\\xf4 Mifune', u'Takashi Shimura', u'K...</td>\n",
              "    </tr>\n",
              "    <tr>\n",
              "      <th>78</th>\n",
              "      <td>8.4</td>\n",
              "      <td>Once Upon a Time in America</td>\n",
              "      <td>R</td>\n",
              "      <td>Crime</td>\n",
              "      <td>229</td>\n",
              "      <td>[u'Robert De Niro', u'James Woods', u'Elizabet...</td>\n",
              "    </tr>\n",
              "    <tr>\n",
              "      <th>85</th>\n",
              "      <td>8.4</td>\n",
              "      <td>Lawrence of Arabia</td>\n",
              "      <td>PG</td>\n",
              "      <td>Adventure</td>\n",
              "      <td>216</td>\n",
              "      <td>[u\"Peter O'Toole\", u'Alec Guinness', u'Anthony...</td>\n",
              "    </tr>\n",
              "    <tr>\n",
              "      <th>142</th>\n",
              "      <td>8.3</td>\n",
              "      <td>Lagaan: Once Upon a Time in India</td>\n",
              "      <td>PG</td>\n",
              "      <td>Adventure</td>\n",
              "      <td>224</td>\n",
              "      <td>[u'Aamir Khan', u'Gracy Singh', u'Rachel Shell...</td>\n",
              "    </tr>\n",
              "    <tr>\n",
              "      <th>157</th>\n",
              "      <td>8.2</td>\n",
              "      <td>Gone with the Wind</td>\n",
              "      <td>G</td>\n",
              "      <td>Drama</td>\n",
              "      <td>238</td>\n",
              "      <td>[u'Clark Gable', u'Vivien Leigh', u'Thomas Mit...</td>\n",
              "    </tr>\n",
              "    <tr>\n",
              "      <th>204</th>\n",
              "      <td>8.1</td>\n",
              "      <td>Ben-Hur</td>\n",
              "      <td>G</td>\n",
              "      <td>Adventure</td>\n",
              "      <td>212</td>\n",
              "      <td>[u'Charlton Heston', u'Jack Hawkins', u'Stephe...</td>\n",
              "    </tr>\n",
              "    <tr>\n",
              "      <th>445</th>\n",
              "      <td>7.9</td>\n",
              "      <td>The Ten Commandments</td>\n",
              "      <td>APPROVED</td>\n",
              "      <td>Adventure</td>\n",
              "      <td>220</td>\n",
              "      <td>[u'Charlton Heston', u'Yul Brynner', u'Anne Ba...</td>\n",
              "    </tr>\n",
              "    <tr>\n",
              "      <th>476</th>\n",
              "      <td>7.8</td>\n",
              "      <td>Hamlet</td>\n",
              "      <td>PG-13</td>\n",
              "      <td>Drama</td>\n",
              "      <td>242</td>\n",
              "      <td>[u'Kenneth Branagh', u'Julie Christie', u'Dere...</td>\n",
              "    </tr>\n",
              "    <tr>\n",
              "      <th>630</th>\n",
              "      <td>7.7</td>\n",
              "      <td>Malcolm X</td>\n",
              "      <td>PG-13</td>\n",
              "      <td>Biography</td>\n",
              "      <td>202</td>\n",
              "      <td>[u'Denzel Washington', u'Angela Bassett', u'De...</td>\n",
              "    </tr>\n",
              "    <tr>\n",
              "      <th>767</th>\n",
              "      <td>7.6</td>\n",
              "      <td>It's a Mad, Mad, Mad, Mad World</td>\n",
              "      <td>APPROVED</td>\n",
              "      <td>Action</td>\n",
              "      <td>205</td>\n",
              "      <td>[u'Spencer Tracy', u'Milton Berle', u'Ethel Me...</td>\n",
              "    </tr>\n",
              "  </tbody>\n",
              "</table>\n",
              "</div>"
            ],
            "text/plain": [
              "     star_rating  ...                                        actors_list\n",
              "2            9.1  ...  [u'Al Pacino', u'Robert De Niro', u'Robert Duv...\n",
              "7            8.9  ...  [u'Elijah Wood', u'Viggo Mortensen', u'Ian McK...\n",
              "17           8.7  ...  [u'Toshir\\xf4 Mifune', u'Takashi Shimura', u'K...\n",
              "78           8.4  ...  [u'Robert De Niro', u'James Woods', u'Elizabet...\n",
              "85           8.4  ...  [u\"Peter O'Toole\", u'Alec Guinness', u'Anthony...\n",
              "142          8.3  ...  [u'Aamir Khan', u'Gracy Singh', u'Rachel Shell...\n",
              "157          8.2  ...  [u'Clark Gable', u'Vivien Leigh', u'Thomas Mit...\n",
              "204          8.1  ...  [u'Charlton Heston', u'Jack Hawkins', u'Stephe...\n",
              "445          7.9  ...  [u'Charlton Heston', u'Yul Brynner', u'Anne Ba...\n",
              "476          7.8  ...  [u'Kenneth Branagh', u'Julie Christie', u'Dere...\n",
              "630          7.7  ...  [u'Denzel Washington', u'Angela Bassett', u'De...\n",
              "767          7.6  ...  [u'Spencer Tracy', u'Milton Berle', u'Ethel Me...\n",
              "\n",
              "[12 rows x 6 columns]"
            ]
          },
          "metadata": {
            "tags": []
          },
          "execution_count": 21
        }
      ]
    },
    {
      "cell_type": "code",
      "metadata": {
        "id": "mzF_6yUETF0Z",
        "outputId": "972177ea-2ed5-43e0-9e64-adc60b30770b",
        "colab": {
          "base_uri": "https://localhost:8080/",
          "height": 254
        }
      },
      "source": [
        "#Filtrando e contando por gênero\n",
        "movies[movies.duration>=200].genre"
      ],
      "execution_count": null,
      "outputs": [
        {
          "output_type": "execute_result",
          "data": {
            "text/plain": [
              "2          Crime\n",
              "7      Adventure\n",
              "17         Drama\n",
              "78         Crime\n",
              "85     Adventure\n",
              "142    Adventure\n",
              "157        Drama\n",
              "204    Adventure\n",
              "445    Adventure\n",
              "476        Drama\n",
              "630    Biography\n",
              "767       Action\n",
              "Name: genre, dtype: object"
            ]
          },
          "metadata": {
            "tags": []
          },
          "execution_count": 23
        }
      ]
    },
    {
      "cell_type": "code",
      "metadata": {
        "id": "ooaiiVOpTPPL",
        "outputId": "efbf7ea8-4bb7-44d3-e3d9-ea173ff87734",
        "colab": {
          "base_uri": "https://localhost:8080/",
          "height": 363
        }
      },
      "source": [
        "drinks.continent.value_counts(normalize=True).plot(kind='bar', title='teste')"
      ],
      "execution_count": null,
      "outputs": [
        {
          "output_type": "execute_result",
          "data": {
            "text/plain": [
              "<matplotlib.axes._subplots.AxesSubplot at 0x7eff8a69e6a0>"
            ]
          },
          "metadata": {
            "tags": []
          },
          "execution_count": 27
        },
        {
          "output_type": "display_data",
          "data": {
            "image/png": "[encoded data removed]",
            "text/plain": [
              "<Figure size 432x288 with 1 Axes>"
            ]
          },
          "metadata": {
            "tags": [],
            "needs_background": "light"
          }
        }
      ]
    },
    {
      "cell_type": "code",
      "metadata": {
        "id": "2yS5GH3cWjJV"
      },
      "source": [
        "#Criando duas visões e concatenando\n",
        "\n",
        "a=drinks.continent.value_counts()"
      ],
      "execution_count": null,
      "outputs": []
    },
    {
      "cell_type": "code",
      "metadata": {
        "id": "WT16FGGHX0Ju"
      },
      "source": [
        "b=drinks.continent.value_counts(normalize=True)\n"
      ],
      "execution_count": null,
      "outputs": []
    },
    {
      "cell_type": "code",
      "metadata": {
        "id": "iDtqc7hhX5Lh",
        "outputId": "6a3ba924-0eb8-4b95-8dec-06d75e81bdf8",
        "colab": {
          "base_uri": "https://localhost:8080/",
          "height": 145
        }
      },
      "source": [
        "a"
      ],
      "execution_count": null,
      "outputs": [
        {
          "output_type": "execute_result",
          "data": {
            "text/plain": [
              "Africa           53\n",
              "Europe           45\n",
              "Asia             44\n",
              "North America    23\n",
              "Oceania          16\n",
              "South America    12\n",
              "Name: continent, dtype: int64"
            ]
          },
          "metadata": {
            "tags": []
          },
          "execution_count": 34
        }
      ]
    },
    {
      "cell_type": "code",
      "metadata": {
        "id": "46OJWwDdYLKu",
        "outputId": "90c8dd7e-2269-4433-a43d-5daeaa717a22",
        "colab": {
          "base_uri": "https://localhost:8080/",
          "height": 145
        }
      },
      "source": [
        "b"
      ],
      "execution_count": null,
      "outputs": [
        {
          "output_type": "execute_result",
          "data": {
            "text/plain": [
              "Africa           0.274611\n",
              "Europe           0.233161\n",
              "Asia             0.227979\n",
              "North America    0.119171\n",
              "Oceania          0.082902\n",
              "South America    0.062176\n",
              "Name: continent, dtype: float64"
            ]
          },
          "metadata": {
            "tags": []
          },
          "execution_count": 35
        }
      ]
    },
    {
      "cell_type": "code",
      "metadata": {
        "id": "K5sroZSnYL2o",
        "outputId": "ddd07f37-cd6f-4d0f-bd34-439c858f760e",
        "colab": {
          "base_uri": "https://localhost:8080/",
          "height": 228
        }
      },
      "source": [
        "pd.concat([a,b], axis=1)"
      ],
      "execution_count": null,
      "outputs": [
        {
          "output_type": "execute_result",
          "data": {
            "text/html": [
              "<div>\n",
              "<style scoped>\n",
              "    .dataframe tbody tr th:only-of-type {\n",
              "        vertical-align: middle;\n",
              "    }\n",
              "\n",
              "    .dataframe tbody tr th {\n",
              "        vertical-align: top;\n",
              "    }\n",
              "\n",
              "    .dataframe thead th {\n",
              "        text-align: right;\n",
              "    }\n",
              "</style>\n",
              "<table border=\"1\" class=\"dataframe\">\n",
              "  <thead>\n",
              "    <tr style=\"text-align: right;\">\n",
              "      <th></th>\n",
              "      <th>continent</th>\n",
              "      <th>continent</th>\n",
              "    </tr>\n",
              "  </thead>\n",
              "  <tbody>\n",
              "    <tr>\n",
              "      <th>Africa</th>\n",
              "      <td>53</td>\n",
              "      <td>0.274611</td>\n",
              "    </tr>\n",
              "    <tr>\n",
              "      <th>Europe</th>\n",
              "      <td>45</td>\n",
              "      <td>0.233161</td>\n",
              "    </tr>\n",
              "    <tr>\n",
              "      <th>Asia</th>\n",
              "      <td>44</td>\n",
              "      <td>0.227979</td>\n",
              "    </tr>\n",
              "    <tr>\n",
              "      <th>North America</th>\n",
              "      <td>23</td>\n",
              "      <td>0.119171</td>\n",
              "    </tr>\n",
              "    <tr>\n",
              "      <th>Oceania</th>\n",
              "      <td>16</td>\n",
              "      <td>0.082902</td>\n",
              "    </tr>\n",
              "    <tr>\n",
              "      <th>South America</th>\n",
              "      <td>12</td>\n",
              "      <td>0.062176</td>\n",
              "    </tr>\n",
              "  </tbody>\n",
              "</table>\n",
              "</div>"
            ],
            "text/plain": [
              "               continent  continent\n",
              "Africa                53   0.274611\n",
              "Europe                45   0.233161\n",
              "Asia                  44   0.227979\n",
              "North America         23   0.119171\n",
              "Oceania               16   0.082902\n",
              "South America         12   0.062176"
            ]
          },
          "metadata": {
            "tags": []
          },
          "execution_count": 37
        }
      ]
    },
    {
      "cell_type": "code",
      "metadata": {
        "id": "J5i5xJctYSil",
        "outputId": "20a0331d-8322-49ab-d72b-e5850afe05e8",
        "colab": {
          "base_uri": "https://localhost:8080/",
          "height": 145
        }
      },
      "source": [
        "drinks.dtypes"
      ],
      "execution_count": null,
      "outputs": [
        {
          "output_type": "execute_result",
          "data": {
            "text/plain": [
              "country                          object\n",
              "beer_servings                     int64\n",
              "spirit_servings                   int64\n",
              "wine_servings                     int64\n",
              "total_litres_of_pure_alcohol    float64\n",
              "continent                        object\n",
              "dtype: object"
            ]
          },
          "metadata": {
            "tags": []
          },
          "execution_count": 39
        }
      ]
    },
    {
      "cell_type": "code",
      "metadata": {
        "id": "aPV-Lyl3YqCo"
      },
      "source": [
        "drinks['beer']=drinks.beer_servings.astype(str)"
      ],
      "execution_count": null,
      "outputs": []
    },
    {
      "cell_type": "code",
      "metadata": {
        "id": "VB6QjUQiZJkh",
        "outputId": "7acbdd30-d830-41fa-a40b-30dab6a0b6d6",
        "colab": {
          "base_uri": "https://localhost:8080/",
          "height": 198
        }
      },
      "source": [
        "drinks.head()"
      ],
      "execution_count": null,
      "outputs": [
        {
          "output_type": "execute_result",
          "data": {
            "text/html": [
              "<div>\n",
              "<style scoped>\n",
              "    .dataframe tbody tr th:only-of-type {\n",
              "        vertical-align: middle;\n",
              "    }\n",
              "\n",
              "    .dataframe tbody tr th {\n",
              "        vertical-align: top;\n",
              "    }\n",
              "\n",
              "    .dataframe thead th {\n",
              "        text-align: right;\n",
              "    }\n",
              "</style>\n",
              "<table border=\"1\" class=\"dataframe\">\n",
              "  <thead>\n",
              "    <tr style=\"text-align: right;\">\n",
              "      <th></th>\n",
              "      <th>country</th>\n",
              "      <th>beer_servings</th>\n",
              "      <th>spirit_servings</th>\n",
              "      <th>wine_servings</th>\n",
              "      <th>total_litres_of_pure_alcohol</th>\n",
              "      <th>continent</th>\n",
              "      <th>beer</th>\n",
              "    </tr>\n",
              "  </thead>\n",
              "  <tbody>\n",
              "    <tr>\n",
              "      <th>0</th>\n",
              "      <td>Afghanistan</td>\n",
              "      <td>0</td>\n",
              "      <td>0</td>\n",
              "      <td>0</td>\n",
              "      <td>0.0</td>\n",
              "      <td>Asia</td>\n",
              "      <td>0</td>\n",
              "    </tr>\n",
              "    <tr>\n",
              "      <th>1</th>\n",
              "      <td>Albania</td>\n",
              "      <td>89</td>\n",
              "      <td>132</td>\n",
              "      <td>54</td>\n",
              "      <td>4.9</td>\n",
              "      <td>Europe</td>\n",
              "      <td>89</td>\n",
              "    </tr>\n",
              "    <tr>\n",
              "      <th>2</th>\n",
              "      <td>Algeria</td>\n",
              "      <td>25</td>\n",
              "      <td>0</td>\n",
              "      <td>14</td>\n",
              "      <td>0.7</td>\n",
              "      <td>Africa</td>\n",
              "      <td>25</td>\n",
              "    </tr>\n",
              "    <tr>\n",
              "      <th>3</th>\n",
              "      <td>Andorra</td>\n",
              "      <td>245</td>\n",
              "      <td>138</td>\n",
              "      <td>312</td>\n",
              "      <td>12.4</td>\n",
              "      <td>Europe</td>\n",
              "      <td>245</td>\n",
              "    </tr>\n",
              "    <tr>\n",
              "      <th>4</th>\n",
              "      <td>Angola</td>\n",
              "      <td>217</td>\n",
              "      <td>57</td>\n",
              "      <td>45</td>\n",
              "      <td>5.9</td>\n",
              "      <td>Africa</td>\n",
              "      <td>217</td>\n",
              "    </tr>\n",
              "  </tbody>\n",
              "</table>\n",
              "</div>"
            ],
            "text/plain": [
              "       country  beer_servings  ...  continent  beer\n",
              "0  Afghanistan              0  ...       Asia     0\n",
              "1      Albania             89  ...     Europe    89\n",
              "2      Algeria             25  ...     Africa    25\n",
              "3      Andorra            245  ...     Europe   245\n",
              "4       Angola            217  ...     Africa   217\n",
              "\n",
              "[5 rows x 7 columns]"
            ]
          },
          "metadata": {
            "tags": []
          },
          "execution_count": 41
        }
      ]
    },
    {
      "cell_type": "code",
      "metadata": {
        "id": "40BNk4ApZLfN"
      },
      "source": [
        "mapping = {'R':'no', 'PG-13': 'yes', 'PG': 'maybe', 'G':'esquece'}"
      ],
      "execution_count": null,
      "outputs": []
    },
    {
      "cell_type": "code",
      "metadata": {
        "id": "PNr9J9HTc04b",
        "outputId": "0472eba5-c0cb-4027-e439-66120b507dbd",
        "colab": {
          "base_uri": "https://localhost:8080/",
          "height": 235
        }
      },
      "source": [
        "movies.content_rating.map(mapping)"
      ],
      "execution_count": null,
      "outputs": [
        {
          "output_type": "execute_result",
          "data": {
            "text/plain": [
              "0         no\n",
              "1         no\n",
              "2         no\n",
              "3        yes\n",
              "4         no\n",
              "       ...  \n",
              "974    maybe\n",
              "975    maybe\n",
              "976      yes\n",
              "977    maybe\n",
              "978       no\n",
              "Name: content_rating, Length: 979, dtype: object"
            ]
          },
          "metadata": {
            "tags": []
          },
          "execution_count": 46
        }
      ]
    },
    {
      "cell_type": "code",
      "metadata": {
        "id": "dnByQePDc7K0",
        "outputId": "4b8cf091-52c7-4786-dee6-4490d41c5e4e",
        "colab": {
          "base_uri": "https://localhost:8080/",
          "height": 108
        }
      },
      "source": [
        "mapping2 = pd.DataFrame({'ratings':['R', 'PG-13'], 'kids':['no','yes']})\n",
        "mapping2"
      ],
      "execution_count": null,
      "outputs": [
        {
          "output_type": "execute_result",
          "data": {
            "text/html": [
              "<div>\n",
              "<style scoped>\n",
              "    .dataframe tbody tr th:only-of-type {\n",
              "        vertical-align: middle;\n",
              "    }\n",
              "\n",
              "    .dataframe tbody tr th {\n",
              "        vertical-align: top;\n",
              "    }\n",
              "\n",
              "    .dataframe thead th {\n",
              "        text-align: right;\n",
              "    }\n",
              "</style>\n",
              "<table border=\"1\" class=\"dataframe\">\n",
              "  <thead>\n",
              "    <tr style=\"text-align: right;\">\n",
              "      <th></th>\n",
              "      <th>ratings</th>\n",
              "      <th>kids</th>\n",
              "    </tr>\n",
              "  </thead>\n",
              "  <tbody>\n",
              "    <tr>\n",
              "      <th>0</th>\n",
              "      <td>R</td>\n",
              "      <td>no</td>\n",
              "    </tr>\n",
              "    <tr>\n",
              "      <th>1</th>\n",
              "      <td>PG-13</td>\n",
              "      <td>yes</td>\n",
              "    </tr>\n",
              "  </tbody>\n",
              "</table>\n",
              "</div>"
            ],
            "text/plain": [
              "  ratings kids\n",
              "0       R   no\n",
              "1   PG-13  yes"
            ]
          },
          "metadata": {
            "tags": []
          },
          "execution_count": 47
        }
      ]
    },
    {
      "cell_type": "code",
      "metadata": {
        "id": "14iAbuBngIOa",
        "outputId": "fbe68f66-d087-4314-8657-e75493e257dc",
        "colab": {
          "base_uri": "https://localhost:8080/",
          "height": 580
        }
      },
      "source": [
        "#Juntando dois DataFrames e usando Condicional ao mesmo tempo\n",
        "\n",
        "pd.merge(movies, mapping2, left_on='content_rating', right_on='ratings')"
      ],
      "execution_count": null,
      "outputs": [
        {
          "output_type": "execute_result",
          "data": {
            "text/html": [
              "<div>\n",
              "<style scoped>\n",
              "    .dataframe tbody tr th:only-of-type {\n",
              "        vertical-align: middle;\n",
              "    }\n",
              "\n",
              "    .dataframe tbody tr th {\n",
              "        vertical-align: top;\n",
              "    }\n",
              "\n",
              "    .dataframe thead th {\n",
              "        text-align: right;\n",
              "    }\n",
              "</style>\n",
              "<table border=\"1\" class=\"dataframe\">\n",
              "  <thead>\n",
              "    <tr style=\"text-align: right;\">\n",
              "      <th></th>\n",
              "      <th>star_rating</th>\n",
              "      <th>title</th>\n",
              "      <th>content_rating</th>\n",
              "      <th>genre</th>\n",
              "      <th>duration</th>\n",
              "      <th>actors_list</th>\n",
              "      <th>ratings</th>\n",
              "      <th>kids</th>\n",
              "    </tr>\n",
              "  </thead>\n",
              "  <tbody>\n",
              "    <tr>\n",
              "      <th>0</th>\n",
              "      <td>9.3</td>\n",
              "      <td>The Shawshank Redemption</td>\n",
              "      <td>R</td>\n",
              "      <td>Crime</td>\n",
              "      <td>142</td>\n",
              "      <td>[u'Tim Robbins', u'Morgan Freeman', u'Bob Gunt...</td>\n",
              "      <td>R</td>\n",
              "      <td>no</td>\n",
              "    </tr>\n",
              "    <tr>\n",
              "      <th>1</th>\n",
              "      <td>9.2</td>\n",
              "      <td>The Godfather</td>\n",
              "      <td>R</td>\n",
              "      <td>Crime</td>\n",
              "      <td>175</td>\n",
              "      <td>[u'Marlon Brando', u'Al Pacino', u'James Caan']</td>\n",
              "      <td>R</td>\n",
              "      <td>no</td>\n",
              "    </tr>\n",
              "    <tr>\n",
              "      <th>2</th>\n",
              "      <td>9.1</td>\n",
              "      <td>The Godfather: Part II</td>\n",
              "      <td>R</td>\n",
              "      <td>Crime</td>\n",
              "      <td>200</td>\n",
              "      <td>[u'Al Pacino', u'Robert De Niro', u'Robert Duv...</td>\n",
              "      <td>R</td>\n",
              "      <td>no</td>\n",
              "    </tr>\n",
              "    <tr>\n",
              "      <th>3</th>\n",
              "      <td>8.9</td>\n",
              "      <td>Pulp Fiction</td>\n",
              "      <td>R</td>\n",
              "      <td>Crime</td>\n",
              "      <td>154</td>\n",
              "      <td>[u'John Travolta', u'Uma Thurman', u'Samuel L....</td>\n",
              "      <td>R</td>\n",
              "      <td>no</td>\n",
              "    </tr>\n",
              "    <tr>\n",
              "      <th>4</th>\n",
              "      <td>8.9</td>\n",
              "      <td>Schindler's List</td>\n",
              "      <td>R</td>\n",
              "      <td>Biography</td>\n",
              "      <td>195</td>\n",
              "      <td>[u'Liam Neeson', u'Ralph Fiennes', u'Ben Kings...</td>\n",
              "      <td>R</td>\n",
              "      <td>no</td>\n",
              "    </tr>\n",
              "    <tr>\n",
              "      <th>...</th>\n",
              "      <td>...</td>\n",
              "      <td>...</td>\n",
              "      <td>...</td>\n",
              "      <td>...</td>\n",
              "      <td>...</td>\n",
              "      <td>...</td>\n",
              "      <td>...</td>\n",
              "      <td>...</td>\n",
              "    </tr>\n",
              "    <tr>\n",
              "      <th>644</th>\n",
              "      <td>7.4</td>\n",
              "      <td>Lincoln</td>\n",
              "      <td>PG-13</td>\n",
              "      <td>Biography</td>\n",
              "      <td>150</td>\n",
              "      <td>[u'Daniel Day-Lewis', u'Sally Field', u'David ...</td>\n",
              "      <td>PG-13</td>\n",
              "      <td>yes</td>\n",
              "    </tr>\n",
              "    <tr>\n",
              "      <th>645</th>\n",
              "      <td>7.4</td>\n",
              "      <td>Limitless</td>\n",
              "      <td>PG-13</td>\n",
              "      <td>Mystery</td>\n",
              "      <td>105</td>\n",
              "      <td>[u'Bradley Cooper', u'Anna Friel', u'Abbie Cor...</td>\n",
              "      <td>PG-13</td>\n",
              "      <td>yes</td>\n",
              "    </tr>\n",
              "    <tr>\n",
              "      <th>646</th>\n",
              "      <td>7.4</td>\n",
              "      <td>The Simpsons Movie</td>\n",
              "      <td>PG-13</td>\n",
              "      <td>Animation</td>\n",
              "      <td>87</td>\n",
              "      <td>[u'Dan Castellaneta', u'Julie Kavner', u'Nancy...</td>\n",
              "      <td>PG-13</td>\n",
              "      <td>yes</td>\n",
              "    </tr>\n",
              "    <tr>\n",
              "      <th>647</th>\n",
              "      <td>7.4</td>\n",
              "      <td>The Cider House Rules</td>\n",
              "      <td>PG-13</td>\n",
              "      <td>Drama</td>\n",
              "      <td>126</td>\n",
              "      <td>[u'Tobey Maguire', u'Charlize Theron', u'Micha...</td>\n",
              "      <td>PG-13</td>\n",
              "      <td>yes</td>\n",
              "    </tr>\n",
              "    <tr>\n",
              "      <th>648</th>\n",
              "      <td>7.4</td>\n",
              "      <td>Master and Commander: The Far Side of the World</td>\n",
              "      <td>PG-13</td>\n",
              "      <td>Action</td>\n",
              "      <td>138</td>\n",
              "      <td>[u'Russell Crowe', u'Paul Bettany', u'Billy Bo...</td>\n",
              "      <td>PG-13</td>\n",
              "      <td>yes</td>\n",
              "    </tr>\n",
              "  </tbody>\n",
              "</table>\n",
              "<p>649 rows × 8 columns</p>\n",
              "</div>"
            ],
            "text/plain": [
              "     star_rating                                            title  ... ratings kids\n",
              "0            9.3                         The Shawshank Redemption  ...       R   no\n",
              "1            9.2                                    The Godfather  ...       R   no\n",
              "2            9.1                           The Godfather: Part II  ...       R   no\n",
              "3            8.9                                     Pulp Fiction  ...       R   no\n",
              "4            8.9                                 Schindler's List  ...       R   no\n",
              "..           ...                                              ...  ...     ...  ...\n",
              "644          7.4                                          Lincoln  ...   PG-13  yes\n",
              "645          7.4                                        Limitless  ...   PG-13  yes\n",
              "646          7.4                               The Simpsons Movie  ...   PG-13  yes\n",
              "647          7.4                            The Cider House Rules  ...   PG-13  yes\n",
              "648          7.4  Master and Commander: The Far Side of the World  ...   PG-13  yes\n",
              "\n",
              "[649 rows x 8 columns]"
            ]
          },
          "metadata": {
            "tags": []
          },
          "execution_count": 48
        }
      ]
    },
    {
      "cell_type": "code",
      "metadata": {
        "id": "uz1qypPDgYLj",
        "outputId": "2cfe187f-d82a-4e62-b34d-29015accf164",
        "colab": {
          "base_uri": "https://localhost:8080/",
          "height": 35
        }
      },
      "source": [
        "ufo.shape"
      ],
      "execution_count": null,
      "outputs": [
        {
          "output_type": "execute_result",
          "data": {
            "text/plain": [
              "(18241, 5)"
            ]
          },
          "metadata": {
            "tags": []
          },
          "execution_count": 49
        }
      ]
    },
    {
      "cell_type": "code",
      "metadata": {
        "id": "xd98OjqihGrF",
        "outputId": "0a6c3dc8-cf19-45b6-af93-f705c43e2db1",
        "colab": {
          "base_uri": "https://localhost:8080/",
          "height": 198
        }
      },
      "source": [
        "ufo.head()"
      ],
      "execution_count": null,
      "outputs": [
        {
          "output_type": "execute_result",
          "data": {
            "text/html": [
              "<div>\n",
              "<style scoped>\n",
              "    .dataframe tbody tr th:only-of-type {\n",
              "        vertical-align: middle;\n",
              "    }\n",
              "\n",
              "    .dataframe tbody tr th {\n",
              "        vertical-align: top;\n",
              "    }\n",
              "\n",
              "    .dataframe thead th {\n",
              "        text-align: right;\n",
              "    }\n",
              "</style>\n",
              "<table border=\"1\" class=\"dataframe\">\n",
              "  <thead>\n",
              "    <tr style=\"text-align: right;\">\n",
              "      <th></th>\n",
              "      <th>City</th>\n",
              "      <th>Colors Reported</th>\n",
              "      <th>Shape Reported</th>\n",
              "      <th>State</th>\n",
              "      <th>Time</th>\n",
              "    </tr>\n",
              "  </thead>\n",
              "  <tbody>\n",
              "    <tr>\n",
              "      <th>0</th>\n",
              "      <td>Ithaca</td>\n",
              "      <td>NaN</td>\n",
              "      <td>TRIANGLE</td>\n",
              "      <td>NY</td>\n",
              "      <td>1930-06-01 22:00:00</td>\n",
              "    </tr>\n",
              "    <tr>\n",
              "      <th>1</th>\n",
              "      <td>Willingboro</td>\n",
              "      <td>NaN</td>\n",
              "      <td>OTHER</td>\n",
              "      <td>NJ</td>\n",
              "      <td>1930-06-30 20:00:00</td>\n",
              "    </tr>\n",
              "    <tr>\n",
              "      <th>2</th>\n",
              "      <td>Holyoke</td>\n",
              "      <td>NaN</td>\n",
              "      <td>OVAL</td>\n",
              "      <td>CO</td>\n",
              "      <td>1931-02-15 14:00:00</td>\n",
              "    </tr>\n",
              "    <tr>\n",
              "      <th>3</th>\n",
              "      <td>Abilene</td>\n",
              "      <td>NaN</td>\n",
              "      <td>DISK</td>\n",
              "      <td>KS</td>\n",
              "      <td>1931-06-01 13:00:00</td>\n",
              "    </tr>\n",
              "    <tr>\n",
              "      <th>4</th>\n",
              "      <td>New York Worlds Fair</td>\n",
              "      <td>NaN</td>\n",
              "      <td>LIGHT</td>\n",
              "      <td>NY</td>\n",
              "      <td>1933-04-18 19:00:00</td>\n",
              "    </tr>\n",
              "  </tbody>\n",
              "</table>\n",
              "</div>"
            ],
            "text/plain": [
              "                   City Colors Reported  ... State                Time\n",
              "0                Ithaca             NaN  ...    NY 1930-06-01 22:00:00\n",
              "1           Willingboro             NaN  ...    NJ 1930-06-30 20:00:00\n",
              "2               Holyoke             NaN  ...    CO 1931-02-15 14:00:00\n",
              "3               Abilene             NaN  ...    KS 1931-06-01 13:00:00\n",
              "4  New York Worlds Fair             NaN  ...    NY 1933-04-18 19:00:00\n",
              "\n",
              "[5 rows x 5 columns]"
            ]
          },
          "metadata": {
            "tags": []
          },
          "execution_count": 50
        }
      ]
    },
    {
      "cell_type": "code",
      "metadata": {
        "id": "1AeVzaWliezn"
      },
      "source": [
        "#Criando um coluna com Ano\n",
        "ufo['Year']=ufo.Time.dt.year.astype(str)"
      ],
      "execution_count": null,
      "outputs": []
    },
    {
      "cell_type": "code",
      "metadata": {
        "id": "RMpmgO7CimCi"
      },
      "source": [
        "#Criando coluna mês\n",
        "ufo['month']=ufo.Time.dt.month.astype(str).str.pad(width=2, fillchar='0')"
      ],
      "execution_count": null,
      "outputs": []
    },
    {
      "cell_type": "code",
      "metadata": {
        "id": "8bXhKkYukegC"
      },
      "source": [
        "#Concatenando duas colunas\n",
        "ufo['new']=ufo.Year.str.cat(ufo.month, sep='-')"
      ],
      "execution_count": null,
      "outputs": []
    },
    {
      "cell_type": "code",
      "metadata": {
        "id": "2upmEzX2lOsO",
        "outputId": "9c648d47-2632-4685-fc47-ef4537824ce5",
        "colab": {
          "base_uri": "https://localhost:8080/",
          "height": 198
        }
      },
      "source": [
        "ufo.head()"
      ],
      "execution_count": null,
      "outputs": [
        {
          "output_type": "execute_result",
          "data": {
            "text/html": [
              "<div>\n",
              "<style scoped>\n",
              "    .dataframe tbody tr th:only-of-type {\n",
              "        vertical-align: middle;\n",
              "    }\n",
              "\n",
              "    .dataframe tbody tr th {\n",
              "        vertical-align: top;\n",
              "    }\n",
              "\n",
              "    .dataframe thead th {\n",
              "        text-align: right;\n",
              "    }\n",
              "</style>\n",
              "<table border=\"1\" class=\"dataframe\">\n",
              "  <thead>\n",
              "    <tr style=\"text-align: right;\">\n",
              "      <th></th>\n",
              "      <th>City</th>\n",
              "      <th>Colors Reported</th>\n",
              "      <th>Shape Reported</th>\n",
              "      <th>State</th>\n",
              "      <th>Time</th>\n",
              "      <th>month</th>\n",
              "      <th>Year</th>\n",
              "      <th>new</th>\n",
              "    </tr>\n",
              "  </thead>\n",
              "  <tbody>\n",
              "    <tr>\n",
              "      <th>0</th>\n",
              "      <td>Ithaca</td>\n",
              "      <td>NaN</td>\n",
              "      <td>TRIANGLE</td>\n",
              "      <td>NY</td>\n",
              "      <td>1930-06-01 22:00:00</td>\n",
              "      <td>06</td>\n",
              "      <td>1930</td>\n",
              "      <td>1930-06</td>\n",
              "    </tr>\n",
              "    <tr>\n",
              "      <th>1</th>\n",
              "      <td>Willingboro</td>\n",
              "      <td>NaN</td>\n",
              "      <td>OTHER</td>\n",
              "      <td>NJ</td>\n",
              "      <td>1930-06-30 20:00:00</td>\n",
              "      <td>06</td>\n",
              "      <td>1930</td>\n",
              "      <td>1930-06</td>\n",
              "    </tr>\n",
              "    <tr>\n",
              "      <th>2</th>\n",
              "      <td>Holyoke</td>\n",
              "      <td>NaN</td>\n",
              "      <td>OVAL</td>\n",
              "      <td>CO</td>\n",
              "      <td>1931-02-15 14:00:00</td>\n",
              "      <td>02</td>\n",
              "      <td>1931</td>\n",
              "      <td>1931-02</td>\n",
              "    </tr>\n",
              "    <tr>\n",
              "      <th>3</th>\n",
              "      <td>Abilene</td>\n",
              "      <td>NaN</td>\n",
              "      <td>DISK</td>\n",
              "      <td>KS</td>\n",
              "      <td>1931-06-01 13:00:00</td>\n",
              "      <td>06</td>\n",
              "      <td>1931</td>\n",
              "      <td>1931-06</td>\n",
              "    </tr>\n",
              "    <tr>\n",
              "      <th>4</th>\n",
              "      <td>New York Worlds Fair</td>\n",
              "      <td>NaN</td>\n",
              "      <td>LIGHT</td>\n",
              "      <td>NY</td>\n",
              "      <td>1933-04-18 19:00:00</td>\n",
              "      <td>04</td>\n",
              "      <td>1933</td>\n",
              "      <td>1933-04</td>\n",
              "    </tr>\n",
              "  </tbody>\n",
              "</table>\n",
              "</div>"
            ],
            "text/plain": [
              "                   City Colors Reported Shape Reported  ... month  Year      new\n",
              "0                Ithaca             NaN       TRIANGLE  ...    06  1930  1930-06\n",
              "1           Willingboro             NaN          OTHER  ...    06  1930  1930-06\n",
              "2               Holyoke             NaN           OVAL  ...    02  1931  1931-02\n",
              "3               Abilene             NaN           DISK  ...    06  1931  1931-06\n",
              "4  New York Worlds Fair             NaN          LIGHT  ...    04  1933  1933-04\n",
              "\n",
              "[5 rows x 8 columns]"
            ]
          },
          "metadata": {
            "tags": []
          },
          "execution_count": 66
        }
      ]
    },
    {
      "cell_type": "code",
      "metadata": {
        "id": "YJbfLnLKlefv",
        "outputId": "a155a9a0-6ba7-4663-bd53-b211bb3dfc03",
        "colab": {
          "base_uri": "https://localhost:8080/",
          "height": 250
        }
      },
      "source": [
        "train.head()"
      ],
      "execution_count": null,
      "outputs": [
        {
          "output_type": "execute_result",
          "data": {
            "text/html": [
              "<div>\n",
              "<style scoped>\n",
              "    .dataframe tbody tr th:only-of-type {\n",
              "        vertical-align: middle;\n",
              "    }\n",
              "\n",
              "    .dataframe tbody tr th {\n",
              "        vertical-align: top;\n",
              "    }\n",
              "\n",
              "    .dataframe thead th {\n",
              "        text-align: right;\n",
              "    }\n",
              "</style>\n",
              "<table border=\"1\" class=\"dataframe\">\n",
              "  <thead>\n",
              "    <tr style=\"text-align: right;\">\n",
              "      <th></th>\n",
              "      <th>PassengerId</th>\n",
              "      <th>Survived</th>\n",
              "      <th>Pclass</th>\n",
              "      <th>Name</th>\n",
              "      <th>Sex</th>\n",
              "      <th>Age</th>\n",
              "      <th>SibSp</th>\n",
              "      <th>Parch</th>\n",
              "      <th>Ticket</th>\n",
              "      <th>Fare</th>\n",
              "      <th>Cabin</th>\n",
              "      <th>Embarked</th>\n",
              "      <th>young_male</th>\n",
              "    </tr>\n",
              "  </thead>\n",
              "  <tbody>\n",
              "    <tr>\n",
              "      <th>0</th>\n",
              "      <td>1</td>\n",
              "      <td>0</td>\n",
              "      <td>3</td>\n",
              "      <td>Braund, Mr. Owen Harris</td>\n",
              "      <td>male</td>\n",
              "      <td>22.0</td>\n",
              "      <td>1</td>\n",
              "      <td>0</td>\n",
              "      <td>A/5 21171</td>\n",
              "      <td>7.2500</td>\n",
              "      <td>NaN</td>\n",
              "      <td>S</td>\n",
              "      <td>True</td>\n",
              "    </tr>\n",
              "    <tr>\n",
              "      <th>1</th>\n",
              "      <td>2</td>\n",
              "      <td>1</td>\n",
              "      <td>1</td>\n",
              "      <td>Cumings, Mrs. John Bradley (Florence Briggs Th...</td>\n",
              "      <td>female</td>\n",
              "      <td>38.0</td>\n",
              "      <td>1</td>\n",
              "      <td>0</td>\n",
              "      <td>PC 17599</td>\n",
              "      <td>71.2833</td>\n",
              "      <td>C85</td>\n",
              "      <td>C</td>\n",
              "      <td>False</td>\n",
              "    </tr>\n",
              "    <tr>\n",
              "      <th>2</th>\n",
              "      <td>3</td>\n",
              "      <td>1</td>\n",
              "      <td>3</td>\n",
              "      <td>Heikkinen, Miss. Laina</td>\n",
              "      <td>female</td>\n",
              "      <td>26.0</td>\n",
              "      <td>0</td>\n",
              "      <td>0</td>\n",
              "      <td>STON/O2. 3101282</td>\n",
              "      <td>7.9250</td>\n",
              "      <td>NaN</td>\n",
              "      <td>S</td>\n",
              "      <td>False</td>\n",
              "    </tr>\n",
              "    <tr>\n",
              "      <th>3</th>\n",
              "      <td>4</td>\n",
              "      <td>1</td>\n",
              "      <td>1</td>\n",
              "      <td>Futrelle, Mrs. Jacques Heath (Lily May Peel)</td>\n",
              "      <td>female</td>\n",
              "      <td>35.0</td>\n",
              "      <td>1</td>\n",
              "      <td>0</td>\n",
              "      <td>113803</td>\n",
              "      <td>53.1000</td>\n",
              "      <td>C123</td>\n",
              "      <td>S</td>\n",
              "      <td>False</td>\n",
              "    </tr>\n",
              "    <tr>\n",
              "      <th>4</th>\n",
              "      <td>5</td>\n",
              "      <td>0</td>\n",
              "      <td>3</td>\n",
              "      <td>Allen, Mr. William Henry</td>\n",
              "      <td>male</td>\n",
              "      <td>35.0</td>\n",
              "      <td>0</td>\n",
              "      <td>0</td>\n",
              "      <td>373450</td>\n",
              "      <td>8.0500</td>\n",
              "      <td>NaN</td>\n",
              "      <td>S</td>\n",
              "      <td>False</td>\n",
              "    </tr>\n",
              "  </tbody>\n",
              "</table>\n",
              "</div>"
            ],
            "text/plain": [
              "   PassengerId  Survived  Pclass  ... Cabin Embarked  young_male\n",
              "0            1         0       3  ...   NaN        S        True\n",
              "1            2         1       1  ...   C85        C       False\n",
              "2            3         1       3  ...   NaN        S       False\n",
              "3            4         1       1  ...  C123        S       False\n",
              "4            5         0       3  ...   NaN        S       False\n",
              "\n",
              "[5 rows x 13 columns]"
            ]
          },
          "metadata": {
            "tags": []
          },
          "execution_count": 70
        }
      ]
    },
    {
      "cell_type": "code",
      "metadata": {
        "id": "BMZfGiU9l0P8",
        "outputId": "8194038d-49b7-4511-9f70-fdd20b63a3e8",
        "colab": {
          "base_uri": "https://localhost:8080/",
          "height": 250
        }
      },
      "source": [
        "#Outra forma de filtrar e aplicar uma coluna condicional\n",
        "\n",
        "train['young_male'] = ((train.Sex =='male') & (train.Age <30)).map({True:'yes', False:'no'})\n",
        "train.head()"
      ],
      "execution_count": null,
      "outputs": [
        {
          "output_type": "execute_result",
          "data": {
            "text/html": [
              "<div>\n",
              "<style scoped>\n",
              "    .dataframe tbody tr th:only-of-type {\n",
              "        vertical-align: middle;\n",
              "    }\n",
              "\n",
              "    .dataframe tbody tr th {\n",
              "        vertical-align: top;\n",
              "    }\n",
              "\n",
              "    .dataframe thead th {\n",
              "        text-align: right;\n",
              "    }\n",
              "</style>\n",
              "<table border=\"1\" class=\"dataframe\">\n",
              "  <thead>\n",
              "    <tr style=\"text-align: right;\">\n",
              "      <th></th>\n",
              "      <th>PassengerId</th>\n",
              "      <th>Survived</th>\n",
              "      <th>Pclass</th>\n",
              "      <th>Name</th>\n",
              "      <th>Sex</th>\n",
              "      <th>Age</th>\n",
              "      <th>SibSp</th>\n",
              "      <th>Parch</th>\n",
              "      <th>Ticket</th>\n",
              "      <th>Fare</th>\n",
              "      <th>Cabin</th>\n",
              "      <th>Embarked</th>\n",
              "      <th>young_male</th>\n",
              "    </tr>\n",
              "  </thead>\n",
              "  <tbody>\n",
              "    <tr>\n",
              "      <th>0</th>\n",
              "      <td>1</td>\n",
              "      <td>0</td>\n",
              "      <td>3</td>\n",
              "      <td>Braund, Mr. Owen Harris</td>\n",
              "      <td>male</td>\n",
              "      <td>22.0</td>\n",
              "      <td>1</td>\n",
              "      <td>0</td>\n",
              "      <td>A/5 21171</td>\n",
              "      <td>7.2500</td>\n",
              "      <td>NaN</td>\n",
              "      <td>S</td>\n",
              "      <td>yes</td>\n",
              "    </tr>\n",
              "    <tr>\n",
              "      <th>1</th>\n",
              "      <td>2</td>\n",
              "      <td>1</td>\n",
              "      <td>1</td>\n",
              "      <td>Cumings, Mrs. John Bradley (Florence Briggs Th...</td>\n",
              "      <td>female</td>\n",
              "      <td>38.0</td>\n",
              "      <td>1</td>\n",
              "      <td>0</td>\n",
              "      <td>PC 17599</td>\n",
              "      <td>71.2833</td>\n",
              "      <td>C85</td>\n",
              "      <td>C</td>\n",
              "      <td>no</td>\n",
              "    </tr>\n",
              "    <tr>\n",
              "      <th>2</th>\n",
              "      <td>3</td>\n",
              "      <td>1</td>\n",
              "      <td>3</td>\n",
              "      <td>Heikkinen, Miss. Laina</td>\n",
              "      <td>female</td>\n",
              "      <td>26.0</td>\n",
              "      <td>0</td>\n",
              "      <td>0</td>\n",
              "      <td>STON/O2. 3101282</td>\n",
              "      <td>7.9250</td>\n",
              "      <td>NaN</td>\n",
              "      <td>S</td>\n",
              "      <td>no</td>\n",
              "    </tr>\n",
              "    <tr>\n",
              "      <th>3</th>\n",
              "      <td>4</td>\n",
              "      <td>1</td>\n",
              "      <td>1</td>\n",
              "      <td>Futrelle, Mrs. Jacques Heath (Lily May Peel)</td>\n",
              "      <td>female</td>\n",
              "      <td>35.0</td>\n",
              "      <td>1</td>\n",
              "      <td>0</td>\n",
              "      <td>113803</td>\n",
              "      <td>53.1000</td>\n",
              "      <td>C123</td>\n",
              "      <td>S</td>\n",
              "      <td>no</td>\n",
              "    </tr>\n",
              "    <tr>\n",
              "      <th>4</th>\n",
              "      <td>5</td>\n",
              "      <td>0</td>\n",
              "      <td>3</td>\n",
              "      <td>Allen, Mr. William Henry</td>\n",
              "      <td>male</td>\n",
              "      <td>35.0</td>\n",
              "      <td>0</td>\n",
              "      <td>0</td>\n",
              "      <td>373450</td>\n",
              "      <td>8.0500</td>\n",
              "      <td>NaN</td>\n",
              "      <td>S</td>\n",
              "      <td>no</td>\n",
              "    </tr>\n",
              "  </tbody>\n",
              "</table>\n",
              "</div>"
            ],
            "text/plain": [
              "   PassengerId  Survived  Pclass  ... Cabin Embarked  young_male\n",
              "0            1         0       3  ...   NaN        S         yes\n",
              "1            2         1       1  ...   C85        C          no\n",
              "2            3         1       3  ...   NaN        S          no\n",
              "3            4         1       1  ...  C123        S          no\n",
              "4            5         0       3  ...   NaN        S          no\n",
              "\n",
              "[5 rows x 13 columns]"
            ]
          },
          "metadata": {
            "tags": []
          },
          "execution_count": 71
        }
      ]
    },
    {
      "cell_type": "code",
      "metadata": {
        "id": "Q3_FWVnXm7Ko",
        "outputId": "827d7153-a2b1-4472-faa2-969f99b15b7c",
        "colab": {
          "base_uri": "https://localhost:8080/",
          "height": 90
        }
      },
      "source": [
        "train.Pclass.value_counts()"
      ],
      "execution_count": null,
      "outputs": [
        {
          "output_type": "execute_result",
          "data": {
            "text/plain": [
              "3    491\n",
              "1    216\n",
              "2    184\n",
              "Name: Pclass, dtype: int64"
            ]
          },
          "metadata": {
            "tags": []
          },
          "execution_count": 72
        }
      ]
    },
    {
      "cell_type": "code",
      "metadata": {
        "id": "ZW8CQUUsoUUI",
        "outputId": "fc9f6ff4-133f-4611-c284-71f45c71b0f2",
        "colab": {
          "base_uri": "https://localhost:8080/",
          "height": 198
        }
      },
      "source": [
        "ufo.head()"
      ],
      "execution_count": null,
      "outputs": [
        {
          "output_type": "execute_result",
          "data": {
            "text/html": [
              "<div>\n",
              "<style scoped>\n",
              "    .dataframe tbody tr th:only-of-type {\n",
              "        vertical-align: middle;\n",
              "    }\n",
              "\n",
              "    .dataframe tbody tr th {\n",
              "        vertical-align: top;\n",
              "    }\n",
              "\n",
              "    .dataframe thead th {\n",
              "        text-align: right;\n",
              "    }\n",
              "</style>\n",
              "<table border=\"1\" class=\"dataframe\">\n",
              "  <thead>\n",
              "    <tr style=\"text-align: right;\">\n",
              "      <th></th>\n",
              "      <th>City</th>\n",
              "      <th>Colors Reported</th>\n",
              "      <th>Shape Reported</th>\n",
              "      <th>State</th>\n",
              "      <th>Time</th>\n",
              "      <th>month</th>\n",
              "      <th>Year</th>\n",
              "      <th>new</th>\n",
              "    </tr>\n",
              "  </thead>\n",
              "  <tbody>\n",
              "    <tr>\n",
              "      <th>0</th>\n",
              "      <td>Ithaca</td>\n",
              "      <td>NaN</td>\n",
              "      <td>TRIANGLE</td>\n",
              "      <td>NY</td>\n",
              "      <td>1930-06-01 22:00:00</td>\n",
              "      <td>06</td>\n",
              "      <td>1930</td>\n",
              "      <td>1930-06</td>\n",
              "    </tr>\n",
              "    <tr>\n",
              "      <th>1</th>\n",
              "      <td>Willingboro</td>\n",
              "      <td>NaN</td>\n",
              "      <td>OTHER</td>\n",
              "      <td>NJ</td>\n",
              "      <td>1930-06-30 20:00:00</td>\n",
              "      <td>06</td>\n",
              "      <td>1930</td>\n",
              "      <td>1930-06</td>\n",
              "    </tr>\n",
              "    <tr>\n",
              "      <th>2</th>\n",
              "      <td>Holyoke</td>\n",
              "      <td>NaN</td>\n",
              "      <td>OVAL</td>\n",
              "      <td>CO</td>\n",
              "      <td>1931-02-15 14:00:00</td>\n",
              "      <td>02</td>\n",
              "      <td>1931</td>\n",
              "      <td>1931-02</td>\n",
              "    </tr>\n",
              "    <tr>\n",
              "      <th>3</th>\n",
              "      <td>Abilene</td>\n",
              "      <td>NaN</td>\n",
              "      <td>DISK</td>\n",
              "      <td>KS</td>\n",
              "      <td>1931-06-01 13:00:00</td>\n",
              "      <td>06</td>\n",
              "      <td>1931</td>\n",
              "      <td>1931-06</td>\n",
              "    </tr>\n",
              "    <tr>\n",
              "      <th>4</th>\n",
              "      <td>New York Worlds Fair</td>\n",
              "      <td>NaN</td>\n",
              "      <td>LIGHT</td>\n",
              "      <td>NY</td>\n",
              "      <td>1933-04-18 19:00:00</td>\n",
              "      <td>04</td>\n",
              "      <td>1933</td>\n",
              "      <td>1933-04</td>\n",
              "    </tr>\n",
              "  </tbody>\n",
              "</table>\n",
              "</div>"
            ],
            "text/plain": [
              "                   City Colors Reported Shape Reported  ... month  Year      new\n",
              "0                Ithaca             NaN       TRIANGLE  ...    06  1930  1930-06\n",
              "1           Willingboro             NaN          OTHER  ...    06  1930  1930-06\n",
              "2               Holyoke             NaN           OVAL  ...    02  1931  1931-02\n",
              "3               Abilene             NaN           DISK  ...    06  1931  1931-06\n",
              "4  New York Worlds Fair             NaN          LIGHT  ...    04  1933  1933-04\n",
              "\n",
              "[5 rows x 8 columns]"
            ]
          },
          "metadata": {
            "tags": []
          },
          "execution_count": 73
        }
      ]
    },
    {
      "cell_type": "code",
      "metadata": {
        "id": "Uq7HWVj-okc8",
        "outputId": "e696aa37-199e-42a9-f7c8-5b796080cc30",
        "colab": {
          "base_uri": "https://localhost:8080/",
          "height": 35
        }
      },
      "source": [
        "ufo.City.isnull().sum()"
      ],
      "execution_count": null,
      "outputs": [
        {
          "output_type": "execute_result",
          "data": {
            "text/plain": [
              "25"
            ]
          },
          "metadata": {
            "tags": []
          },
          "execution_count": 75
        }
      ]
    },
    {
      "cell_type": "code",
      "metadata": {
        "id": "pZWefqJUoo2G",
        "outputId": "74c76a52-5026-4824-f7d0-cde4e43d83d9",
        "colab": {
          "base_uri": "https://localhost:8080/",
          "height": 108
        }
      },
      "source": [
        "ufo.loc[ufo.City.isnull() & (ufo['Colors Reported']=='RED'), :]"
      ],
      "execution_count": null,
      "outputs": [
        {
          "output_type": "execute_result",
          "data": {
            "text/html": [
              "<div>\n",
              "<style scoped>\n",
              "    .dataframe tbody tr th:only-of-type {\n",
              "        vertical-align: middle;\n",
              "    }\n",
              "\n",
              "    .dataframe tbody tr th {\n",
              "        vertical-align: top;\n",
              "    }\n",
              "\n",
              "    .dataframe thead th {\n",
              "        text-align: right;\n",
              "    }\n",
              "</style>\n",
              "<table border=\"1\" class=\"dataframe\">\n",
              "  <thead>\n",
              "    <tr style=\"text-align: right;\">\n",
              "      <th></th>\n",
              "      <th>City</th>\n",
              "      <th>Colors Reported</th>\n",
              "      <th>Shape Reported</th>\n",
              "      <th>State</th>\n",
              "      <th>Time</th>\n",
              "      <th>month</th>\n",
              "      <th>Year</th>\n",
              "      <th>new</th>\n",
              "    </tr>\n",
              "  </thead>\n",
              "  <tbody>\n",
              "    <tr>\n",
              "      <th>3123</th>\n",
              "      <td>NaN</td>\n",
              "      <td>RED</td>\n",
              "      <td>TRIANGLE</td>\n",
              "      <td>WV</td>\n",
              "      <td>1975-11-25 23:00:00</td>\n",
              "      <td>11</td>\n",
              "      <td>1975</td>\n",
              "      <td>1975-11</td>\n",
              "    </tr>\n",
              "    <tr>\n",
              "      <th>12441</th>\n",
              "      <td>NaN</td>\n",
              "      <td>RED</td>\n",
              "      <td>FIREBALL</td>\n",
              "      <td>WA</td>\n",
              "      <td>1998-10-26 17:58:00</td>\n",
              "      <td>10</td>\n",
              "      <td>1998</td>\n",
              "      <td>1998-10</td>\n",
              "    </tr>\n",
              "  </tbody>\n",
              "</table>\n",
              "</div>"
            ],
            "text/plain": [
              "      City Colors Reported Shape Reported  ... month  Year      new\n",
              "3123   NaN             RED       TRIANGLE  ...    11  1975  1975-11\n",
              "12441  NaN             RED       FIREBALL  ...    10  1998  1998-10\n",
              "\n",
              "[2 rows x 8 columns]"
            ]
          },
          "metadata": {
            "tags": []
          },
          "execution_count": 82
        }
      ]
    },
    {
      "cell_type": "code",
      "metadata": {
        "id": "qJHaBwYvozpj",
        "outputId": "50dd1b00-c1e8-492c-c633-1a21816d07ca",
        "colab": {
          "base_uri": "https://localhost:8080/",
          "height": 407
        }
      },
      "source": [
        "#Filtrando com parâmetro de exclusão\n",
        "\n",
        "drinks[~drinks.continent.isin(['Asia', 'Africa'])]"
      ],
      "execution_count": null,
      "outputs": [
        {
          "output_type": "execute_result",
          "data": {
            "text/html": [
              "<div>\n",
              "<style scoped>\n",
              "    .dataframe tbody tr th:only-of-type {\n",
              "        vertical-align: middle;\n",
              "    }\n",
              "\n",
              "    .dataframe tbody tr th {\n",
              "        vertical-align: top;\n",
              "    }\n",
              "\n",
              "    .dataframe thead th {\n",
              "        text-align: right;\n",
              "    }\n",
              "</style>\n",
              "<table border=\"1\" class=\"dataframe\">\n",
              "  <thead>\n",
              "    <tr style=\"text-align: right;\">\n",
              "      <th></th>\n",
              "      <th>country</th>\n",
              "      <th>beer_servings</th>\n",
              "      <th>spirit_servings</th>\n",
              "      <th>wine_servings</th>\n",
              "      <th>total_litres_of_pure_alcohol</th>\n",
              "      <th>continent</th>\n",
              "      <th>beer</th>\n",
              "    </tr>\n",
              "  </thead>\n",
              "  <tbody>\n",
              "    <tr>\n",
              "      <th>1</th>\n",
              "      <td>Albania</td>\n",
              "      <td>89</td>\n",
              "      <td>132</td>\n",
              "      <td>54</td>\n",
              "      <td>4.9</td>\n",
              "      <td>Europe</td>\n",
              "      <td>89</td>\n",
              "    </tr>\n",
              "    <tr>\n",
              "      <th>3</th>\n",
              "      <td>Andorra</td>\n",
              "      <td>245</td>\n",
              "      <td>138</td>\n",
              "      <td>312</td>\n",
              "      <td>12.4</td>\n",
              "      <td>Europe</td>\n",
              "      <td>245</td>\n",
              "    </tr>\n",
              "    <tr>\n",
              "      <th>5</th>\n",
              "      <td>Antigua &amp; Barbuda</td>\n",
              "      <td>102</td>\n",
              "      <td>128</td>\n",
              "      <td>45</td>\n",
              "      <td>4.9</td>\n",
              "      <td>North America</td>\n",
              "      <td>102</td>\n",
              "    </tr>\n",
              "    <tr>\n",
              "      <th>6</th>\n",
              "      <td>Argentina</td>\n",
              "      <td>193</td>\n",
              "      <td>25</td>\n",
              "      <td>221</td>\n",
              "      <td>8.3</td>\n",
              "      <td>South America</td>\n",
              "      <td>193</td>\n",
              "    </tr>\n",
              "    <tr>\n",
              "      <th>7</th>\n",
              "      <td>Armenia</td>\n",
              "      <td>21</td>\n",
              "      <td>179</td>\n",
              "      <td>11</td>\n",
              "      <td>3.8</td>\n",
              "      <td>Europe</td>\n",
              "      <td>21</td>\n",
              "    </tr>\n",
              "    <tr>\n",
              "      <th>...</th>\n",
              "      <td>...</td>\n",
              "      <td>...</td>\n",
              "      <td>...</td>\n",
              "      <td>...</td>\n",
              "      <td>...</td>\n",
              "      <td>...</td>\n",
              "      <td>...</td>\n",
              "    </tr>\n",
              "    <tr>\n",
              "      <th>182</th>\n",
              "      <td>United Kingdom</td>\n",
              "      <td>219</td>\n",
              "      <td>126</td>\n",
              "      <td>195</td>\n",
              "      <td>10.4</td>\n",
              "      <td>Europe</td>\n",
              "      <td>219</td>\n",
              "    </tr>\n",
              "    <tr>\n",
              "      <th>184</th>\n",
              "      <td>USA</td>\n",
              "      <td>249</td>\n",
              "      <td>158</td>\n",
              "      <td>84</td>\n",
              "      <td>8.7</td>\n",
              "      <td>North America</td>\n",
              "      <td>249</td>\n",
              "    </tr>\n",
              "    <tr>\n",
              "      <th>185</th>\n",
              "      <td>Uruguay</td>\n",
              "      <td>115</td>\n",
              "      <td>35</td>\n",
              "      <td>220</td>\n",
              "      <td>6.6</td>\n",
              "      <td>South America</td>\n",
              "      <td>115</td>\n",
              "    </tr>\n",
              "    <tr>\n",
              "      <th>187</th>\n",
              "      <td>Vanuatu</td>\n",
              "      <td>21</td>\n",
              "      <td>18</td>\n",
              "      <td>11</td>\n",
              "      <td>0.9</td>\n",
              "      <td>Oceania</td>\n",
              "      <td>21</td>\n",
              "    </tr>\n",
              "    <tr>\n",
              "      <th>188</th>\n",
              "      <td>Venezuela</td>\n",
              "      <td>333</td>\n",
              "      <td>100</td>\n",
              "      <td>3</td>\n",
              "      <td>7.7</td>\n",
              "      <td>South America</td>\n",
              "      <td>333</td>\n",
              "    </tr>\n",
              "  </tbody>\n",
              "</table>\n",
              "<p>96 rows × 7 columns</p>\n",
              "</div>"
            ],
            "text/plain": [
              "               country  beer_servings  ...      continent  beer\n",
              "1              Albania             89  ...         Europe    89\n",
              "3              Andorra            245  ...         Europe   245\n",
              "5    Antigua & Barbuda            102  ...  North America   102\n",
              "6            Argentina            193  ...  South America   193\n",
              "7              Armenia             21  ...         Europe    21\n",
              "..                 ...            ...  ...            ...   ...\n",
              "182     United Kingdom            219  ...         Europe   219\n",
              "184                USA            249  ...  North America   249\n",
              "185            Uruguay            115  ...  South America   115\n",
              "187            Vanuatu             21  ...        Oceania    21\n",
              "188          Venezuela            333  ...  South America   333\n",
              "\n",
              "[96 rows x 7 columns]"
            ]
          },
          "metadata": {
            "tags": []
          },
          "execution_count": 84
        }
      ]
    },
    {
      "cell_type": "code",
      "metadata": {
        "id": "ofOGY5POsLx7",
        "outputId": "004e821b-1872-4e93-ad49-8e9c1057281a",
        "colab": {
          "base_uri": "https://localhost:8080/",
          "height": 407
        }
      },
      "source": [
        "drinks[(drinks.continent == 'Africa') | (drinks.continent=='Asia') ]"
      ],
      "execution_count": null,
      "outputs": [
        {
          "output_type": "execute_result",
          "data": {
            "text/html": [
              "<div>\n",
              "<style scoped>\n",
              "    .dataframe tbody tr th:only-of-type {\n",
              "        vertical-align: middle;\n",
              "    }\n",
              "\n",
              "    .dataframe tbody tr th {\n",
              "        vertical-align: top;\n",
              "    }\n",
              "\n",
              "    .dataframe thead th {\n",
              "        text-align: right;\n",
              "    }\n",
              "</style>\n",
              "<table border=\"1\" class=\"dataframe\">\n",
              "  <thead>\n",
              "    <tr style=\"text-align: right;\">\n",
              "      <th></th>\n",
              "      <th>country</th>\n",
              "      <th>beer_servings</th>\n",
              "      <th>spirit_servings</th>\n",
              "      <th>wine_servings</th>\n",
              "      <th>total_litres_of_pure_alcohol</th>\n",
              "      <th>continent</th>\n",
              "      <th>beer</th>\n",
              "    </tr>\n",
              "  </thead>\n",
              "  <tbody>\n",
              "    <tr>\n",
              "      <th>0</th>\n",
              "      <td>Afghanistan</td>\n",
              "      <td>0</td>\n",
              "      <td>0</td>\n",
              "      <td>0</td>\n",
              "      <td>0.0</td>\n",
              "      <td>Asia</td>\n",
              "      <td>0</td>\n",
              "    </tr>\n",
              "    <tr>\n",
              "      <th>2</th>\n",
              "      <td>Algeria</td>\n",
              "      <td>25</td>\n",
              "      <td>0</td>\n",
              "      <td>14</td>\n",
              "      <td>0.7</td>\n",
              "      <td>Africa</td>\n",
              "      <td>25</td>\n",
              "    </tr>\n",
              "    <tr>\n",
              "      <th>4</th>\n",
              "      <td>Angola</td>\n",
              "      <td>217</td>\n",
              "      <td>57</td>\n",
              "      <td>45</td>\n",
              "      <td>5.9</td>\n",
              "      <td>Africa</td>\n",
              "      <td>217</td>\n",
              "    </tr>\n",
              "    <tr>\n",
              "      <th>12</th>\n",
              "      <td>Bahrain</td>\n",
              "      <td>42</td>\n",
              "      <td>63</td>\n",
              "      <td>7</td>\n",
              "      <td>2.0</td>\n",
              "      <td>Asia</td>\n",
              "      <td>42</td>\n",
              "    </tr>\n",
              "    <tr>\n",
              "      <th>13</th>\n",
              "      <td>Bangladesh</td>\n",
              "      <td>0</td>\n",
              "      <td>0</td>\n",
              "      <td>0</td>\n",
              "      <td>0.0</td>\n",
              "      <td>Asia</td>\n",
              "      <td>0</td>\n",
              "    </tr>\n",
              "    <tr>\n",
              "      <th>...</th>\n",
              "      <td>...</td>\n",
              "      <td>...</td>\n",
              "      <td>...</td>\n",
              "      <td>...</td>\n",
              "      <td>...</td>\n",
              "      <td>...</td>\n",
              "      <td>...</td>\n",
              "    </tr>\n",
              "    <tr>\n",
              "      <th>186</th>\n",
              "      <td>Uzbekistan</td>\n",
              "      <td>25</td>\n",
              "      <td>101</td>\n",
              "      <td>8</td>\n",
              "      <td>2.4</td>\n",
              "      <td>Asia</td>\n",
              "      <td>25</td>\n",
              "    </tr>\n",
              "    <tr>\n",
              "      <th>189</th>\n",
              "      <td>Vietnam</td>\n",
              "      <td>111</td>\n",
              "      <td>2</td>\n",
              "      <td>1</td>\n",
              "      <td>2.0</td>\n",
              "      <td>Asia</td>\n",
              "      <td>111</td>\n",
              "    </tr>\n",
              "    <tr>\n",
              "      <th>190</th>\n",
              "      <td>Yemen</td>\n",
              "      <td>6</td>\n",
              "      <td>0</td>\n",
              "      <td>0</td>\n",
              "      <td>0.1</td>\n",
              "      <td>Asia</td>\n",
              "      <td>6</td>\n",
              "    </tr>\n",
              "    <tr>\n",
              "      <th>191</th>\n",
              "      <td>Zambia</td>\n",
              "      <td>32</td>\n",
              "      <td>19</td>\n",
              "      <td>4</td>\n",
              "      <td>2.5</td>\n",
              "      <td>Africa</td>\n",
              "      <td>32</td>\n",
              "    </tr>\n",
              "    <tr>\n",
              "      <th>192</th>\n",
              "      <td>Zimbabwe</td>\n",
              "      <td>64</td>\n",
              "      <td>18</td>\n",
              "      <td>4</td>\n",
              "      <td>4.7</td>\n",
              "      <td>Africa</td>\n",
              "      <td>64</td>\n",
              "    </tr>\n",
              "  </tbody>\n",
              "</table>\n",
              "<p>97 rows × 7 columns</p>\n",
              "</div>"
            ],
            "text/plain": [
              "         country  beer_servings  ...  continent  beer\n",
              "0    Afghanistan              0  ...       Asia     0\n",
              "2        Algeria             25  ...     Africa    25\n",
              "4         Angola            217  ...     Africa   217\n",
              "12       Bahrain             42  ...       Asia    42\n",
              "13    Bangladesh              0  ...       Asia     0\n",
              "..           ...            ...  ...        ...   ...\n",
              "186   Uzbekistan             25  ...       Asia    25\n",
              "189      Vietnam            111  ...       Asia   111\n",
              "190        Yemen              6  ...       Asia     6\n",
              "191       Zambia             32  ...     Africa    32\n",
              "192     Zimbabwe             64  ...     Africa    64\n",
              "\n",
              "[97 rows x 7 columns]"
            ]
          },
          "metadata": {
            "tags": []
          },
          "execution_count": 85
        }
      ]
    },
    {
      "cell_type": "code",
      "metadata": {
        "id": "pWmU7o-NvkJf"
      },
      "source": [
        ""
      ],
      "execution_count": null,
      "outputs": []
    }
  ]
}